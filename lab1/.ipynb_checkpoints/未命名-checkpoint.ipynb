{
 "cells": [
  {
   "cell_type": "code",
   "execution_count": 1,
   "id": "20bd148b",
   "metadata": {},
   "outputs": [
    {
     "name": "stderr",
     "output_type": "stream",
     "text": [
      "/Users/kangyixiao/opt/anaconda3/lib/python3.9/site-packages/sklearn/utils/validation.py:63: DataConversionWarning: A column-vector y was passed when a 1d array was expected. Please change the shape of y to (n_samples, ), for example using ravel().\n",
      "  return f(*args, **kwargs)\n"
     ]
    },
    {
     "name": "stdout",
     "output_type": "stream",
     "text": [
      "[1, 77516, 2174, 0, 39, 40, 0, 0, 0, 0, 0, 0, 1, 0, 0, 0, 0, 0, 0, 0, 0, 0, 0, 0, 1, 0, 0, 0, 0, 0, 0, 0, 0, 0, 0, 1, 0, 0, 1, 0, 0, 0, 0, 0, 0, 0, 0, 0, 0, 0, 0, 0, 0, 0, 1, 0, 0, 0, 0, 0, 0, 0, 0, 1, 0, 0, 0, 0, 0, 0, 0, 0, 0, 0, 0, 0, 0, 0, 0, 0, 0, 0, 0, 0, 0, 0, 0, 0, 0, 0, 0, 0, 0, 0, 0, 0, 0, 0, 0, 0, 0, 0, 1, 0, 0, 0]\n",
      "BernoulliNB(binarize=True)\n",
      "0.7825072170014127\n"
     ]
    },
    {
     "name": "stderr",
     "output_type": "stream",
     "text": [
      "/Users/kangyixiao/opt/anaconda3/lib/python3.9/site-packages/sklearn/utils/validation.py:63: DataConversionWarning: A column-vector y was passed when a 1d array was expected. Please change the shape of y to (n_samples, ), for example using ravel().\n",
      "  return f(*args, **kwargs)\n"
     ]
    },
    {
     "name": "stdout",
     "output_type": "stream",
     "text": [
      "MultinomialNB()\n",
      "0.785148332412014\n"
     ]
    },
    {
     "name": "stderr",
     "output_type": "stream",
     "text": [
      "/Users/kangyixiao/opt/anaconda3/lib/python3.9/site-packages/sklearn/utils/validation.py:63: DataConversionWarning: A column-vector y was passed when a 1d array was expected. Please change the shape of y to (n_samples, ), for example using ravel().\n",
      "  return f(*args, **kwargs)\n"
     ]
    },
    {
     "name": "stdout",
     "output_type": "stream",
     "text": [
      "GaussianNB()\n",
      "0.7952828450340889\n"
     ]
    },
    {
     "name": "stderr",
     "output_type": "stream",
     "text": [
      "/Users/kangyixiao/opt/anaconda3/lib/python3.9/site-packages/sklearn/utils/validation.py:63: DataConversionWarning: A column-vector y was passed when a 1d array was expected. Please change the shape of y to (n_samples, ), for example using ravel().\n",
      "  return f(*args, **kwargs)\n"
     ]
    },
    {
     "name": "stdout",
     "output_type": "stream",
     "text": [
      "LogisticRegression()\n",
      "0.7952828450340889\n"
     ]
    }
   ],
   "source": [
    "from sklearn.naive_bayes import BernoulliNB\n",
    "from sklearn.naive_bayes import GaussianNB\n",
    "from sklearn.naive_bayes import MultinomialNB\n",
    "from sklearn.metrics import accuracy_score\n",
    "from sklearn.linear_model import LogisticRegression\n",
    "import csv\n",
    "X_train_file = csv.reader(open('./src/data/X_train.csv'))\n",
    "Y_train_file = csv.reader(open('./src/data/Y_train.csv'))\n",
    "X_test_file = csv.reader(open('./src/data/X_test.csv'))\n",
    "Y_test_file = csv.reader(open('./src/data/Y_test.csv'))\n",
    "X_train=[]\n",
    "Y_train=[]\n",
    "X_test=[]\n",
    "Y_test=[]\n",
    "i=0\n",
    "for content in X_train_file:\n",
    "    i+=1\n",
    "    if(i==1):\n",
    "        continue\n",
    "    content=list(map(int,content))\n",
    "    if len(content)!=0:\n",
    "        X_train.append(content)\n",
    "i=0;\n",
    "for content in Y_train_file:\n",
    "    i+=1\n",
    "    if(i==1):\n",
    "        continue\n",
    "    content=list(map(int,content))\n",
    "    if len(content)!=0:\n",
    "        Y_train.append(content)\n",
    "i=0;\n",
    "for content in X_test_file:\n",
    "    i+=1\n",
    "    if(i==1):\n",
    "        continue\n",
    "    content=list(map(int,content))\n",
    "    if len(content)!=0:\n",
    "        X_test.append(content)\n",
    "\n",
    "i=0;\n",
    "for content in Y_test_file:\n",
    "    i+=1\n",
    "    if(i==1):\n",
    "        continue\n",
    "    content=list(map(int,content))\n",
    "    if len(content)!=0:\n",
    "        Y_test.append(content)\n",
    "\n",
    "BernNB = BernoulliNB(binarize = True)\n",
    "BernNB.fit(X_train, Y_train)\n",
    "print(BernNB)\n",
    "y_expect = Y_test\n",
    "y_pred = BernNB.predict(X_test)\n",
    "print (accuracy_score(y_expect, y_pred))\n",
    "\n",
    "\n",
    "MultiNB = MultinomialNB()\n",
    "MultiNB.fit(X_train, Y_train)\n",
    "print(MultiNB)\n",
    "y_pred =  MultiNB.predict(X_test)\n",
    "print (accuracy_score(y_expect, y_pred))\n",
    "\n",
    "GausNB = GaussianNB()\n",
    "GausNB.fit(X_train, Y_train)\n",
    "print(GausNB)\n",
    "y_expect = Y_test\n",
    "y_pred = GausNB.predict(X_test)\n",
    "print (accuracy_score(y_expect, y_pred))\n",
    "\n",
    "\n",
    "log_reg = LogisticRegression()\n",
    "log_reg.fit(X_train, Y_train)\n",
    "# Show to Coeficient and Intercept\n",
    "print(log_reg)\n",
    "# Perform prediction using the test dataset\n",
    "y_expect = Y_test\n",
    "y_pred = GausNB.predict(X_test)\n",
    "print (accuracy_score(y_expect, y_pred))\n",
    "\n",
    "\n"
   ]
  },
  {
   "cell_type": "code",
   "execution_count": null,
   "id": "be1613a8",
   "metadata": {},
   "outputs": [],
   "source": []
  }
 ],
 "metadata": {
  "kernelspec": {
   "display_name": "Python 3 (ipykernel)",
   "language": "python",
   "name": "python3"
  },
  "language_info": {
   "codemirror_mode": {
    "name": "ipython",
    "version": 3
   },
   "file_extension": ".py",
   "mimetype": "text/x-python",
   "name": "python",
   "nbconvert_exporter": "python",
   "pygments_lexer": "ipython3",
   "version": "3.9.7"
  }
 },
 "nbformat": 4,
 "nbformat_minor": 5
}
